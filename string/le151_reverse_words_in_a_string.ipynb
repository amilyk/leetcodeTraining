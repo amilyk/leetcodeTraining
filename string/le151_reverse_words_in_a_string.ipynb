{
 "cells": [
  {
   "cell_type": "code",
   "execution_count": 7,
   "metadata": {},
   "outputs": [],
   "source": [
    "class Solution(object):\n",
    "    def reverseWords(self, s):\n",
    "        \"\"\"\n",
    "        :type s: str\n",
    "        :rtype: str\n",
    "        \"\"\"\n",
    "        cur = \"\"\n",
    "        words = []\n",
    "        for ch in s:\n",
    "            if ch == \" \":#碰到空格就把前面累积的字符变成单词，收集起来\n",
    "                if cur:\n",
    "                    words.append(cur)\n",
    "                    cur = \"\"\n",
    "            else:#非空格就收集\n",
    "                cur += ch\n",
    "        #如果最后没空格，最后一段字符就没被收集\n",
    "        if cur:\n",
    "            words.append(cur)\n",
    "\n",
    "        n = len(words)\n",
    "        #反转字符串的单词（单词里的字符不用反转）\n",
    "        for i in range(n // 2):\n",
    "            words[i], words[n - 1 - i] = words[n-1-i], words[i]\n",
    "\n",
    "        return \" \".join(words)"
   ]
  },
  {
   "cell_type": "code",
   "execution_count": 12,
   "metadata": {},
   "outputs": [],
   "source": [
    "solu = Solution()\n",
    "words = solu.reverseWords(\"  hello world  \")"
   ]
  },
  {
   "cell_type": "code",
   "execution_count": null,
   "metadata": {},
   "outputs": [],
   "source": []
  }
 ],
 "metadata": {
  "kernelspec": {
   "display_name": "py10",
   "language": "python",
   "name": "python3"
  },
  "language_info": {
   "codemirror_mode": {
    "name": "ipython",
    "version": 3
   },
   "file_extension": ".py",
   "mimetype": "text/x-python",
   "name": "python",
   "nbconvert_exporter": "python",
   "pygments_lexer": "ipython3",
   "version": "3.10.12"
  }
 },
 "nbformat": 4,
 "nbformat_minor": 2
}
