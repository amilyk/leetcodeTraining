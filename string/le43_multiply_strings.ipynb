{
 "cells": [
  {
   "cell_type": "code",
   "execution_count": 1,
   "metadata": {},
   "outputs": [],
   "source": [
    "class Solution(object):\n",
    "    def multiply(self, num1, num2):\n",
    "        \"\"\"\n",
    "        :type num1: str\n",
    "        :type num2: str\n",
    "        :rtype: str\n",
    "        \"\"\"\n",
    "        #num1 * num2 的长度范围在 len(num1)+len(num2)-1 ~ len(num1)+len(num2)\n",
    "        if num1 == \"0\" or num2 == \"0\":\n",
    "            return \"0\"\n",
    "        l1 = len(num1)\n",
    "        l2 = len(num2)\n",
    "        total_l = l1+l2\n",
    "        nums = [0 for _ in range(total_l)]\n",
    "        for i in range(l1-1,-1,-1):#逐个累加，按位运算，从低到高\n",
    "            digit1 = int(num1[i])\n",
    "            for j in range(l2-1,-1,-1):\n",
    "                digit2 = int(num2[j])\n",
    "                nums[i+j+1] += digit1 * digit2# +=而不是=，累加\n",
    "        \n",
    "        for index in range(total_l-1,0,-1):#考虑每位的进位\n",
    "            nums[index-1] += nums[index] // 10\n",
    "            nums[index] = nums[index] % 10\n",
    "        \n",
    "        if nums[0] == 0:\n",
    "            #nums长度是len(num1)+len(num2)-1，就会出现最高位为0\n",
    "            ans = \"\".join([str(digit) for digit in nums[1:]])\n",
    "        else:\n",
    "            ans = \"\".join([str(digit) for digit in nums])\n",
    "        \n",
    "        return ans"
   ]
  },
  {
   "cell_type": "code",
   "execution_count": 2,
   "metadata": {},
   "outputs": [
    {
     "data": {
      "text/plain": [
       "'56088'"
      ]
     },
     "execution_count": 2,
     "metadata": {},
     "output_type": "execute_result"
    }
   ],
   "source": [
    "solu = Solution()\n",
    "solu.multiply(\"123\",\"456\")"
   ]
  },
  {
   "cell_type": "code",
   "execution_count": null,
   "metadata": {},
   "outputs": [],
   "source": []
  }
 ],
 "metadata": {
  "kernelspec": {
   "display_name": "py10",
   "language": "python",
   "name": "python3"
  },
  "language_info": {
   "codemirror_mode": {
    "name": "ipython",
    "version": 3
   },
   "file_extension": ".py",
   "mimetype": "text/x-python",
   "name": "python",
   "nbconvert_exporter": "python",
   "pygments_lexer": "ipython3",
   "version": "3.10.12"
  }
 },
 "nbformat": 4,
 "nbformat_minor": 2
}
