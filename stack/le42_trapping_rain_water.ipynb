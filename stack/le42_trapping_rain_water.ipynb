{
 "cells": [
  {
   "cell_type": "code",
   "execution_count": 8,
   "metadata": {},
   "outputs": [],
   "source": [
    "from typing import List\n",
    "\n",
    "class Solution:\n",
    "    def trap(self, height: List[int]) -> int:\n",
    "        ans = 0\n",
    "        stack = []\n",
    "        size = len(height)\n",
    "        for i in range(size):\n",
    "            while stack and height[i] > height[stack[-1]]:#当前元素 > cur < 栈顶元素\n",
    "                cur = stack.pop(-1)\n",
    "                if stack:\n",
    "                    left = stack[-1] + 1\n",
    "                    right = i - 1\n",
    "                    high = min(height[i], height[stack[-1]]) - height[cur]\n",
    "                    ans += high * (right - left + 1)\n",
    "                else:#没左边界\n",
    "                    break\n",
    "            #比栈顶元素小的元素直接入栈\n",
    "            stack.append(i)\n",
    "            print(\"i:{} stack:{} ans:{}\".format(i, stack, ans))\n",
    "        return ans"
   ]
  },
  {
   "cell_type": "code",
   "execution_count": 9,
   "metadata": {},
   "outputs": [
    {
     "name": "stdout",
     "output_type": "stream",
     "text": [
      "i:0 stack:[0] ans:0\n",
      "i:1 stack:[1] ans:0\n",
      "i:2 stack:[1, 2] ans:0\n",
      "i:3 stack:[3] ans:1\n",
      "i:4 stack:[3, 4] ans:1\n",
      "i:5 stack:[3, 4, 5] ans:1\n",
      "i:6 stack:[3, 4, 6] ans:2\n",
      "i:7 stack:[7] ans:5\n",
      "i:8 stack:[7, 8] ans:5\n",
      "i:9 stack:[7, 8, 9] ans:5\n",
      "i:10 stack:[7, 8, 10] ans:6\n",
      "i:11 stack:[7, 8, 10, 11] ans:6\n"
     ]
    },
    {
     "data": {
      "text/plain": [
       "6"
      ]
     },
     "execution_count": 9,
     "metadata": {},
     "output_type": "execute_result"
    }
   ],
   "source": [
    "solu = Solution()\n",
    "height = [0,1,0,2,1,0,1,3,2,1,2,1]\n",
    "solu.trap(height)"
   ]
  },
  {
   "cell_type": "code",
   "execution_count": null,
   "metadata": {},
   "outputs": [],
   "source": []
  }
 ],
 "metadata": {
  "kernelspec": {
   "display_name": "llm-universe",
   "language": "python",
   "name": "python3"
  },
  "language_info": {
   "codemirror_mode": {
    "name": "ipython",
    "version": 3
   },
   "file_extension": ".py",
   "mimetype": "text/x-python",
   "name": "python",
   "nbconvert_exporter": "python",
   "pygments_lexer": "ipython3",
   "version": "3.10.14"
  }
 },
 "nbformat": 4,
 "nbformat_minor": 2
}
