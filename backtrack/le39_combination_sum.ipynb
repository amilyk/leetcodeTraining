{
 "cells": [
  {
   "cell_type": "code",
   "execution_count": 1,
   "metadata": {},
   "outputs": [],
   "source": [
    "class Solution(object):\n",
    "    def combinationSum(self, candidates, target):\n",
    "        \"\"\"\n",
    "        :type candidates: List[int]\n",
    "        :type target: int\n",
    "        :rtype: List[List[int]]\n",
    "        \"\"\"\n",
    "        path = []\n",
    "        res = []\n",
    "\n",
    "        def backtrack(start_index, total):\n",
    "            if total == target:\n",
    "                res.append(path[:])\n",
    "                return\n",
    "            \n",
    "            if total > target:\n",
    "                return\n",
    "            \n",
    "            for i in range(start_index, len(candidates)):\n",
    "                if total + candidates[i] > target:\n",
    "                    break\n",
    "                total += candidates[i]\n",
    "                path.append(candidates[i])\n",
    "\n",
    "                backtrack(i, total)\n",
    "                total -= candidates[i]\n",
    "                path.pop()\n",
    "            \n",
    "        candidates.sort()\n",
    "        backtrack(0, 0)\n",
    "        return res"
   ]
  },
  {
   "cell_type": "code",
   "execution_count": 2,
   "metadata": {},
   "outputs": [
    {
     "data": {
      "text/plain": [
       "[[2, 2, 3], [7]]"
      ]
     },
     "execution_count": 2,
     "metadata": {},
     "output_type": "execute_result"
    }
   ],
   "source": [
    "solu = Solution()\n",
    "solu.combinationSum(candidates=[2,3,6,7], target = 7)"
   ]
  },
  {
   "cell_type": "code",
   "execution_count": null,
   "metadata": {},
   "outputs": [],
   "source": []
  }
 ],
 "metadata": {
  "kernelspec": {
   "display_name": "py10",
   "language": "python",
   "name": "python3"
  },
  "language_info": {
   "codemirror_mode": {
    "name": "ipython",
    "version": 3
   },
   "file_extension": ".py",
   "mimetype": "text/x-python",
   "name": "python",
   "nbconvert_exporter": "python",
   "pygments_lexer": "ipython3",
   "version": "3.10.12"
  }
 },
 "nbformat": 4,
 "nbformat_minor": 2
}
