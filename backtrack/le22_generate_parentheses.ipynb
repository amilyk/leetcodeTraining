{
 "cells": [
  {
   "cell_type": "code",
   "execution_count": null,
   "metadata": {},
   "outputs": [],
   "source": [
    "class Solution(object):\n",
    "    def generateParenthesis(self, n):\n",
    "        \"\"\"\n",
    "        :type n: int\n",
    "        :rtype: List[str]\n",
    "        \"\"\"\n",
    "        res = []\n",
    "        path = []\n",
    "        def backtrack(left, right):\n",
    "            if left == 0 and right == 0:\n",
    "                res.append(\"\".join(path[:]))\n",
    "                return\n",
    "            if left > right:#优先使用左括号，而不是右括号\n",
    "                return \n",
    "            if left < 0 or right < 0:#左括号用多了也不行，右括号用多了也不行\n",
    "                return \n",
    "            path.append('(')\n",
    "            backtrack(left - 1, right)\n",
    "            path.pop()\n",
    "\n",
    "            path.append(')')\n",
    "            backtrack(left, right-1)\n",
    "            path.pop()\n",
    "            \n",
    "        backtrack(n, n)\n",
    "        return res\n",
    "        "
   ]
  }
 ],
 "metadata": {
  "language_info": {
   "name": "python"
  }
 },
 "nbformat": 4,
 "nbformat_minor": 2
}
