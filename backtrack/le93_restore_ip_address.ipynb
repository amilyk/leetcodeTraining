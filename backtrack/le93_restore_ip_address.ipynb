{
 "cells": [
  {
   "cell_type": "code",
   "execution_count": 38,
   "metadata": {},
   "outputs": [],
   "source": [
    "class Solution:\n",
    "    def restoreIpAddresses(self, s: str):\n",
    "        res = []\n",
    "        path = []\n",
    "        def backtracking(index):\n",
    "            # 如果切割次数大于 4，直接返回\n",
    "            if len(path) > 4:            \n",
    "                return\n",
    "\n",
    "            # 切割完成，将当前结果加入答案结果数组中\n",
    "            if len(path) == 4 and index == len(s):\n",
    "                res.append('.'.join(path))\n",
    "                # print(res[:])\n",
    "                return\n",
    "            \n",
    "            for i in range(index, len(s)):\n",
    "                sub = s[index: i + 1]\n",
    "                # print(\"backtrack:\",index, sub,path)\n",
    "                # 如果当前值不在 0 ~ 255 之间，直接跳过\n",
    "                if int(sub) > 255:\n",
    "                    continue\n",
    "                # 如果当前值为 0，但不是单个 0（\"00...\"），直接跳过\n",
    "                if int(sub) == 0 and i != index:\n",
    "                    \n",
    "                    continue\n",
    "                # 如果当前值大于 0，但是以 0 开头（\"0XX...\"），直接跳过\n",
    "                if int(sub) > 0 and s[index] == '0':\n",
    "                    continue\n",
    "                \n",
    "                \n",
    "                path.append(sub)\n",
    "                # print(\"backtrack:\",index, sub, path, len(path))\n",
    "                \n",
    "                backtracking(i + 1)\n",
    "                path.pop()\n",
    "\n",
    "            \n",
    "        backtracking(0)\n",
    "        return res\n",
    "    "
   ]
  },
  {
   "cell_type": "code",
   "execution_count": 39,
   "metadata": {},
   "outputs": [
    {
     "data": {
      "text/plain": [
       "['0.0.0.0']"
      ]
     },
     "execution_count": 39,
     "metadata": {},
     "output_type": "execute_result"
    }
   ],
   "source": [
    "solu = Solution()\n",
    "solu.restoreIpAddresses(\"0000\")"
   ]
  },
  {
   "cell_type": "code",
   "execution_count": null,
   "metadata": {},
   "outputs": [],
   "source": []
  },
  {
   "cell_type": "code",
   "execution_count": null,
   "metadata": {},
   "outputs": [],
   "source": []
  }
 ],
 "metadata": {
  "kernelspec": {
   "display_name": "py10",
   "language": "python",
   "name": "python3"
  },
  "language_info": {
   "codemirror_mode": {
    "name": "ipython",
    "version": 3
   },
   "file_extension": ".py",
   "mimetype": "text/x-python",
   "name": "python",
   "nbconvert_exporter": "python",
   "pygments_lexer": "ipython3",
   "version": "3.10.12"
  }
 },
 "nbformat": 4,
 "nbformat_minor": 2
}
