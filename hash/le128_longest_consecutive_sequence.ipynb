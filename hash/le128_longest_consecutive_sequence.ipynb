{
 "cells": [
  {
   "cell_type": "code",
   "execution_count": 1,
   "metadata": {},
   "outputs": [],
   "source": [
    "class Solution(object):\n",
    "    def longestConsecutive(self, nums):\n",
    "        \"\"\"\n",
    "        :type nums: List[int]\n",
    "        :rtype: int\n",
    "        \"\"\"\n",
    "        num_set = set(nums)\n",
    "        ans = 0\n",
    "        #不能遍历所有元素，O(n)复杂度也会超出，遍历set里的所有元素（无关顺序）\n",
    "        for num in num_set:\n",
    "            if num - 1 not in num_set:#nums[i]的子序列是以自己为起点\n",
    "                start_n = num\n",
    "                seq_streak = 1\n",
    "\n",
    "                while start_n + 1 in num_set:\n",
    "                    start_n += 1\n",
    "                    seq_streak += 1\n",
    "                \n",
    "                ans = max(ans, seq_streak)\n",
    "        return ans"
   ]
  },
  {
   "cell_type": "code",
   "execution_count": 2,
   "metadata": {},
   "outputs": [
    {
     "data": {
      "text/plain": [
       "4"
      ]
     },
     "execution_count": 2,
     "metadata": {},
     "output_type": "execute_result"
    }
   ],
   "source": [
    "solu = Solution()\n",
    "solu.longestConsecutive([100, 4, 200, 1, 3, 2])"
   ]
  }
 ],
 "metadata": {
  "kernelspec": {
   "display_name": "py10",
   "language": "python",
   "name": "python3"
  },
  "language_info": {
   "codemirror_mode": {
    "name": "ipython",
    "version": 3
   },
   "file_extension": ".py",
   "mimetype": "text/x-python",
   "name": "python",
   "nbconvert_exporter": "python",
   "pygments_lexer": "ipython3",
   "version": "3.10.12"
  }
 },
 "nbformat": 4,
 "nbformat_minor": 2
}
