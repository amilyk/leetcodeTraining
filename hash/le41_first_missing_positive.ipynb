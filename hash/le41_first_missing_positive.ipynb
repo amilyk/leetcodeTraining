{
 "cells": [
  {
   "cell_type": "code",
   "execution_count": 1,
   "metadata": {},
   "outputs": [],
   "source": [
    "class Solution(object):\n",
    "    def firstMissingPositive(self, nums):\n",
    "        \"\"\"\n",
    "        :type nums: List[int]\n",
    "        :rtype: int\n",
    "        \"\"\"\n",
    "        n = len(nums)\n",
    "        for i in range(n):\n",
    "            #nums[i] != nums[nums[i] - 1],比如2应该存在index为1(nums[i]-1)\n",
    "            while 1 <= nums[i] <= n and nums[i] != nums[nums[i] - 1]:\n",
    "                #若取值为负数就停止，或者超过n，不去调换位置\n",
    "                index1 = i\n",
    "                index2 = nums[i] - 1\n",
    "                #nums[i]应该去的地方是index为 nums[i]-1\n",
    "                nums[index1], nums[index2] = nums[index2], nums[index1]\n",
    "        \n",
    "        for i in range(n):\n",
    "            if nums[i] - 1 != i:\n",
    "                return i + 1\n",
    "        return n + 1"
   ]
  },
  {
   "cell_type": "code",
   "execution_count": 2,
   "metadata": {},
   "outputs": [
    {
     "data": {
      "text/plain": [
       "1"
      ]
     },
     "execution_count": 2,
     "metadata": {},
     "output_type": "execute_result"
    }
   ],
   "source": [
    "solu = Solution()\n",
    "solu.firstMissingPositive([3, 4, -1, -1])"
   ]
  }
 ],
 "metadata": {
  "kernelspec": {
   "display_name": "py10",
   "language": "python",
   "name": "python3"
  },
  "language_info": {
   "codemirror_mode": {
    "name": "ipython",
    "version": 3
   },
   "file_extension": ".py",
   "mimetype": "text/x-python",
   "name": "python",
   "nbconvert_exporter": "python",
   "pygments_lexer": "ipython3",
   "version": "3.10.12"
  }
 },
 "nbformat": 4,
 "nbformat_minor": 2
}
