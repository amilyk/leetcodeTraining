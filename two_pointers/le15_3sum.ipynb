{
 "cells": [
  {
   "cell_type": "code",
   "execution_count": 1,
   "metadata": {},
   "outputs": [],
   "source": [
    "class Solution(object):\n",
    "    def threeSum(self, nums):\n",
    "        \"\"\"\n",
    "        :type nums: List[int]\n",
    "        :rtype: List[List[int]]\n",
    "        \"\"\"\n",
    "        n = len(nums)\n",
    "        # sort_nums = sorted(nums)\n",
    "        nums.sort()\n",
    "        #先确定一个值，其他两个值是否等于第一个值的相反数，两指针\n",
    "        \n",
    "        #防止重复答案\n",
    "        res = []\n",
    "        for i in range(len(nums)):\n",
    "            #第一个值相同需过滤\n",
    "            if i >= 1 and nums[i] == nums[i-1]:\n",
    "                continue\n",
    "            left = i + 1\n",
    "            right = n - 1\n",
    "            while left < right:\n",
    "                # print(i, left, right, nums[i], nums[left], nums[right])\n",
    "                #left > i + 1，要考虑到left-1不越界\n",
    "                while left < right and left > i + 1 and nums[left] == nums[left-1]:#第二个值相同需过滤\n",
    "                    left += 1\n",
    "                #right < n - 1 ，要考虑到right+1不越界\n",
    "                while left < right and right < n - 1 and nums[right] == nums[right+1]:#第三个值相同需过滤\n",
    "                    right -= 1\n",
    "                #比如[-2,0,0,2,2]，出现[0,0,0]错误答案\n",
    "                #判断相等的时候要考虑到left < right,left和right去重的时候，可能到一个值 \n",
    "                if left < right and nums[left] + nums[right] + nums[i] == 0:\n",
    "                    res.append([nums[i], nums[left], nums[right]])\n",
    "                    left += 1\n",
    "                    right -= 1\n",
    "                elif nums[left] + nums[right] + nums[i] > 0:\n",
    "                    right -= 1\n",
    "                else:\n",
    "                    left += 1\n",
    "        return res\n"
   ]
  },
  {
   "cell_type": "code",
   "execution_count": 2,
   "metadata": {},
   "outputs": [
    {
     "data": {
      "text/plain": [
       "[[-1, -1, 2], [-1, 0, 1]]"
      ]
     },
     "execution_count": 2,
     "metadata": {},
     "output_type": "execute_result"
    }
   ],
   "source": [
    "solu = Solution()\n",
    "solu.threeSum([-1, 0, 1, 2, -1, -4])"
   ]
  },
  {
   "cell_type": "code",
   "execution_count": null,
   "metadata": {},
   "outputs": [],
   "source": []
  }
 ],
 "metadata": {
  "kernelspec": {
   "display_name": "py10",
   "language": "python",
   "name": "python3"
  },
  "language_info": {
   "codemirror_mode": {
    "name": "ipython",
    "version": 3
   },
   "file_extension": ".py",
   "mimetype": "text/x-python",
   "name": "python",
   "nbconvert_exporter": "python",
   "pygments_lexer": "ipython3",
   "version": "3.10.12"
  }
 },
 "nbformat": 4,
 "nbformat_minor": 2
}
