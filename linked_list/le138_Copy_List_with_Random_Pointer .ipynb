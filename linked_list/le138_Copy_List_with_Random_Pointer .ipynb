{
 "cells": [
  {
   "cell_type": "code",
   "execution_count": null,
   "metadata": {},
   "outputs": [],
   "source": [
    "\"\"\"\n",
    "# Definition for a Node.\n",
    "class Node:\n",
    "    def __init__(self, x, next=None, random=None):\n",
    "        self.val = int(x)\n",
    "        self.next = next\n",
    "        self.random = random\n",
    "\"\"\"\n",
    "\n",
    "class Solution(object):\n",
    "    def copyRandomList(self, head):\n",
    "        \"\"\"\n",
    "        :type head: Node\n",
    "        :rtype: Node\n",
    "        \"\"\"\n",
    "        #先把所有节点存下来，目的是如果直接遍历的话，random节点可能存在。\n",
    "        #比如 1.next -> 2 1.random->3, 3还没存在\n",
    "        if not head:\n",
    "            return None\n",
    "        cur = head\n",
    "        node_dict = dict()\n",
    "        while cur:\n",
    "            new_node = Node(cur.val, None, None)\n",
    "            node_dict[cur] = new_node\n",
    "            cur = cur.next\n",
    "        cur = head\n",
    "        while cur:\n",
    "            if cur.next:\n",
    "                node_dict[cur].next = node_dict[cur.next]\n",
    "            if cur.random:\n",
    "                node_dict[cur].random = node_dict[cur.random]\n",
    "            cur = cur.next\n",
    "        return node_dict[head]"
   ]
  }
 ],
 "metadata": {
  "language_info": {
   "name": "python"
  }
 },
 "nbformat": 4,
 "nbformat_minor": 2
}
