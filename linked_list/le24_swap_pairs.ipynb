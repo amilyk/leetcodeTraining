{
 "cells": [
  {
   "cell_type": "code",
   "execution_count": null,
   "metadata": {},
   "outputs": [],
   "source": [
    "# Definition for singly-linked list.\n",
    "# class ListNode(object):\n",
    "#     def __init__(self, val=0, next=None):\n",
    "#         self.val = val\n",
    "#         self.next = next\n",
    "class Solution(object):\n",
    "    def swapPairs(self, head):\n",
    "        \"\"\"\n",
    "        :type head: Optional[ListNode]\n",
    "        :rtype: Optional[ListNode]\n",
    "        \"\"\"\n",
    "        #cur node1 node2\n",
    "        newHead = ListNode(0)\n",
    "        newHead.next = head\n",
    "        cur = newHead\n",
    "        while cur.next and cur.next.next:\n",
    "            node1 = cur.next\n",
    "            node2 = cur.next.next\n",
    "            cur.next = node2\n",
    "            node1.next = node2.next\n",
    "            node2.next = node1\n",
    "            cur = node1\n",
    "        return newHead.next\n",
    "        "
   ]
  }
 ],
 "metadata": {
  "language_info": {
   "name": "python"
  }
 },
 "nbformat": 4,
 "nbformat_minor": 2
}
