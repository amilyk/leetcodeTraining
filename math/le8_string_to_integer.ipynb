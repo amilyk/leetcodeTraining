{
 "cells": [
  {
   "cell_type": "code",
   "execution_count": 1,
   "metadata": {},
   "outputs": [],
   "source": [
    "class Solution(object):\n",
    "    def myAtoi(self, s):\n",
    "        \"\"\"\n",
    "        :type s: str\n",
    "        :rtype: int\n",
    "        \"\"\"\n",
    "        num_str = \"\"\n",
    "        positive = True\n",
    "        start = 0\n",
    "        s = s.lstrip()\n",
    "        if not s:\n",
    "            return 0 \n",
    "        if s[0] == '-':\n",
    "            positive = False\n",
    "            start = 1\n",
    "        elif s[0] == '+':\n",
    "            positive = True\n",
    "            start = 1\n",
    "        elif not s[0].isdigit():\n",
    "            return 0\n",
    "        \n",
    "        for i in range(start, len(s)):\n",
    "            if s[i].isdigit():\n",
    "                num_str += s[i]\n",
    "            else:\n",
    "                break\n",
    "        if not num_str:\n",
    "            return 0\n",
    "        num = int(num_str)\n",
    "        if not positive:\n",
    "            num = -num\n",
    "            #32位int范围：-2^31 ~ 2^31-1之间\n",
    "            return max(num, -2 ** 31)\n",
    "        else:\n",
    "            return min(num, 2 ** 31 - 1)"
   ]
  },
  {
   "cell_type": "code",
   "execution_count": 2,
   "metadata": {},
   "outputs": [
    {
     "data": {
      "text/plain": [
       "0"
      ]
     },
     "execution_count": 2,
     "metadata": {},
     "output_type": "execute_result"
    }
   ],
   "source": [
    "solu = Solution()\n",
    "solu.myAtoi(\"words and 987\")"
   ]
  },
  {
   "cell_type": "code",
   "execution_count": null,
   "metadata": {},
   "outputs": [],
   "source": []
  }
 ],
 "metadata": {
  "kernelspec": {
   "display_name": "py10",
   "language": "python",
   "name": "python3"
  },
  "language_info": {
   "codemirror_mode": {
    "name": "ipython",
    "version": 3
   },
   "file_extension": ".py",
   "mimetype": "text/x-python",
   "name": "python",
   "nbconvert_exporter": "python",
   "pygments_lexer": "ipython3",
   "version": "3.10.12"
  }
 },
 "nbformat": 4,
 "nbformat_minor": 2
}
