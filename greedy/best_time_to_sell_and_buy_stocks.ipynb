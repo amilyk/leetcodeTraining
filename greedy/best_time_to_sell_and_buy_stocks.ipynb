{
 "cells": [
  {
   "cell_type": "code",
   "execution_count": 1,
   "metadata": {},
   "outputs": [],
   "source": [
    "class Solution(object):\n",
    "    #选择在某一天买入股票，然后选择在另一天卖掉股票\n",
    "    def maxProfit(self, prices):\n",
    "        \"\"\"\n",
    "        :type prices: List[int]\n",
    "        :rtype: int\n",
    "        \"\"\"\n",
    "        #当前价格下-最小价格就是profit，找到最大的profit\n",
    "        min_price = 10001\n",
    "        max_profit = 0\n",
    "        for cur_price in prices:\n",
    "            if cur_price < min_price:\n",
    "                min_price = cur_price\n",
    "            #如果当前日，价格，同时是最低价格，profit=0\n",
    "            cur_profit = cur_price - min_price\n",
    "            if cur_profit > max_profit:\n",
    "                max_profit = cur_profit\n",
    "        return max_profit\n",
    "        "
   ]
  },
  {
   "cell_type": "code",
   "execution_count": 2,
   "metadata": {},
   "outputs": [
    {
     "data": {
      "text/plain": [
       "5"
      ]
     },
     "execution_count": 2,
     "metadata": {},
     "output_type": "execute_result"
    }
   ],
   "source": [
    "solu = Solution()\n",
    "solu.maxProfit([7,1,6,3,5,4])"
   ]
  },
  {
   "cell_type": "code",
   "execution_count": null,
   "metadata": {},
   "outputs": [],
   "source": []
  }
 ],
 "metadata": {
  "kernelspec": {
   "display_name": "py10",
   "language": "python",
   "name": "python3"
  },
  "language_info": {
   "codemirror_mode": {
    "name": "ipython",
    "version": 3
   },
   "file_extension": ".py",
   "mimetype": "text/x-python",
   "name": "python",
   "nbconvert_exporter": "python",
   "pygments_lexer": "ipython3",
   "version": "3.10.12"
  }
 },
 "nbformat": 4,
 "nbformat_minor": 2
}
