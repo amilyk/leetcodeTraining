{
 "cells": [
  {
   "cell_type": "code",
   "execution_count": null,
   "metadata": {},
   "outputs": [],
   "source": [
    "class Solution(object):\n",
    "    def minSubArrayLen(self, target, nums):\n",
    "        \"\"\"\n",
    "        :type target: int\n",
    "        :type nums: List[int]\n",
    "        :rtype: int\n",
    "        \"\"\"\n",
    "        #sliding window，满足target的最短连续子数组\n",
    "        n = len(nums)\n",
    "        ans = n + 1\n",
    "        left = 0\n",
    "        right = 0\n",
    "        sum_target = 0\n",
    "        while right < n:\n",
    "            sum_target += nums[right]\n",
    "            while sum_target >= target:\n",
    "                ans = min(ans, right - left + 1)\n",
    "                sum_target -= nums[left]\n",
    "                left += 1\n",
    "            right += 1\n",
    "        return 0 if ans == n+1 else ans"
   ]
  }
 ],
 "metadata": {
  "language_info": {
   "name": "python"
  }
 },
 "nbformat": 4,
 "nbformat_minor": 2
}
