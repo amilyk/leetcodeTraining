{
 "cells": [
  {
   "cell_type": "code",
   "execution_count": 1,
   "metadata": {},
   "outputs": [],
   "source": [
    "class Solution(object):\n",
    "    def maxProduct(self, nums):\n",
    "        \"\"\"\n",
    "        :type nums: List[int]\n",
    "        :rtype: int\n",
    "        \"\"\"\n",
    "        #dp[i]以 nums[i] 的数组里的连续子数组的最大乘积值\n",
    "        #有负号的原因，最大值不一定是dp[i-1]*nums[i] 或 nums[i]\n",
    "        #比如[-2,3,-4],dp[1]=3,dp[2]=-4,其实最大值dp[2] = -2*3*-4，dp[i-1]最小值* 负数也能变成最大\n",
    "        #最大值不一定要以nums[i]结尾，max\n",
    "        dp_max = dict()\n",
    "        dp_min = dict()\n",
    "        n = len(nums)\n",
    "        res = float('-inf')\n",
    "        for i in range(n):\n",
    "            if i == 0:\n",
    "                dp_max[i] = nums[i]\n",
    "                dp_min[i] = nums[i]\n",
    "            else:\n",
    "                dp_max[i] = max(dp_max[i-1]*nums[i], dp_min[i-1]*nums[i], nums[i])\n",
    "                dp_min[i] = min(dp_min[i-1]*nums[i], dp_max[i-1]*nums[i], nums[i])\n",
    "            # print(i,' ',dp_max[i], ' ',dp_min[i])\n",
    "            res = max(res, dp_max[i])\n",
    "        return res"
   ]
  },
  {
   "cell_type": "code",
   "execution_count": 2,
   "metadata": {},
   "outputs": [
    {
     "data": {
      "text/plain": [
       "6"
      ]
     },
     "execution_count": 2,
     "metadata": {},
     "output_type": "execute_result"
    }
   ],
   "source": [
    "solu = Solution()\n",
    "solu.maxProduct([2,3,-2,4])"
   ]
  },
  {
   "cell_type": "code",
   "execution_count": null,
   "metadata": {},
   "outputs": [],
   "source": []
  }
 ],
 "metadata": {
  "kernelspec": {
   "display_name": "py10",
   "language": "python",
   "name": "python3"
  },
  "language_info": {
   "codemirror_mode": {
    "name": "ipython",
    "version": 3
   },
   "file_extension": ".py",
   "mimetype": "text/x-python",
   "name": "python",
   "nbconvert_exporter": "python",
   "pygments_lexer": "ipython3",
   "version": "3.10.12"
  }
 },
 "nbformat": 4,
 "nbformat_minor": 2
}
