{
 "cells": [
  {
   "cell_type": "code",
   "execution_count": 2,
   "metadata": {},
   "outputs": [],
   "source": [
    "class Solution(object):\n",
    "    def maxSubArray(self, nums):\n",
    "        \"\"\"\n",
    "        :type nums: List[int]\n",
    "        :rtype: int\n",
    "        \"\"\"\n",
    "        ##子数组必须是连续的，子序列不是连续的\n",
    "        #dp怎么定义，dp[i]是指以nums[i]结尾的最大子数组和\n",
    "        #dp[i] -> nums[i-1] if dp[i-1]<0   \n",
    "        #dp[i] -> dp[i-1]+nums[i]  if dp[i-1] >=0\n",
    "        n = len(nums)\n",
    "        dp = [0 for _ in range(n)] #只有n个值\n",
    "        dp[0] = nums[0]#考虑到只有1个值，若为负数的情况。\n",
    "        res = dp[0]\n",
    "        for i in range(1, n):\n",
    "            if dp[i-1] < 0:\n",
    "                dp[i] = nums[i]\n",
    "            else:\n",
    "                dp[i] = dp[i-1] + nums[i]\n",
    "            res = max(res, dp[i])\n",
    "        return res\n"
   ]
  },
  {
   "cell_type": "code",
   "execution_count": 3,
   "metadata": {},
   "outputs": [
    {
     "data": {
      "text/plain": [
       "6"
      ]
     },
     "execution_count": 3,
     "metadata": {},
     "output_type": "execute_result"
    }
   ],
   "source": [
    "solu = Solution()\n",
    "solu.maxSubArray(nums = [-2,1,-3,4,-1,2,1,-5,4])"
   ]
  }
 ],
 "metadata": {
  "kernelspec": {
   "display_name": "py10",
   "language": "python",
   "name": "python3"
  },
  "language_info": {
   "codemirror_mode": {
    "name": "ipython",
    "version": 3
   },
   "file_extension": ".py",
   "mimetype": "text/x-python",
   "name": "python",
   "nbconvert_exporter": "python",
   "pygments_lexer": "ipython3",
   "version": "3.10.12"
  }
 },
 "nbformat": 4,
 "nbformat_minor": 2
}
