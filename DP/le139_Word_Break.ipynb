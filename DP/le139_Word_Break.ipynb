{
 "cells": [
  {
   "cell_type": "code",
   "execution_count": 1,
   "metadata": {},
   "outputs": [],
   "source": [
    "class Solution(object):\n",
    "    def wordBreak(self, s, wordDict):\n",
    "        \"\"\"\n",
    "        :type s: str\n",
    "        :type wordDict: List[str]\n",
    "        :rtype: bool\n",
    "        \"\"\"\n",
    "        #dp\n",
    "        #dp[i]表示为前i个字符能否划分成wordDict里的元素。\n",
    "        #dp[0]表示空字符串能否划分成元素，这里设置为True\n",
    "        #dp[i]->  1. dp[j] True & s[i..j] 可以划分成元素 -> True\n",
    "        #         2. dp[j] False or s[i..j] 不能划分成元素 -> False\n",
    "        #return dp[size]\n",
    "        # 比如 s[i..j] = \"le\"  le not in Dict[\"leet\",\"code\"]\n",
    "        n = len(s)\n",
    "        dp = [False for _ in range(n+1)]\n",
    "        dp[0] = True\n",
    "        for i in range(n+1):\n",
    "            for j in range(i):\n",
    "                if dp[j] and s[j:i] in wordDict:#只要有一种满足dp[i]为True\n",
    "                    dp[i] = True\n",
    "                # print(i, j, dp[j], s[i:j], dp[i])\n",
    "        return dp[n]"
   ]
  },
  {
   "cell_type": "code",
   "execution_count": 2,
   "metadata": {},
   "outputs": [
    {
     "data": {
      "text/plain": [
       "True"
      ]
     },
     "execution_count": 2,
     "metadata": {},
     "output_type": "execute_result"
    }
   ],
   "source": [
    "s = \"leetcode\"\n",
    "wordDict = [\"leet\",\"code\"]\n",
    "solu = Solution()\n",
    "solu.wordBreak(s, wordDict)"
   ]
  },
  {
   "cell_type": "code",
   "execution_count": null,
   "metadata": {},
   "outputs": [],
   "source": []
  }
 ],
 "metadata": {
  "kernelspec": {
   "display_name": "py10",
   "language": "python",
   "name": "python3"
  },
  "language_info": {
   "codemirror_mode": {
    "name": "ipython",
    "version": 3
   },
   "file_extension": ".py",
   "mimetype": "text/x-python",
   "name": "python",
   "nbconvert_exporter": "python",
   "pygments_lexer": "ipython3",
   "version": "3.10.12"
  }
 },
 "nbformat": 4,
 "nbformat_minor": 2
}
