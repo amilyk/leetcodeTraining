{
 "cells": [
  {
   "cell_type": "code",
   "execution_count": 1,
   "metadata": {},
   "outputs": [],
   "source": [
    "class Solution(object):\n",
    "    def longestPalindrome(self, s):\n",
    "        \"\"\"\n",
    "        :type s: str\n",
    "        :rtype: str\n",
    "        \"\"\"\n",
    "        #dp[i][j]，以i开头 j结尾的s的子串是否回文\n",
    "        #若j - i <= 2, 长度为3以内的子串，只要s[i]==s[j]就是回文\n",
    "        #超过3的子串，看下dp[i+1][j-1]是否是回文\n",
    "\n",
    "        #遍历方向，以不同j为结尾\n",
    "        n = len(s)\n",
    "        if n <= 1:\n",
    "            return s\n",
    "\n",
    "        dp = [[False for _ in range(n)] for _ in range(n)]\n",
    "        max_len = 1#若没匹配s[i]==s[j]，则单个字符就是子串，max_len=1最小\n",
    "        max_start = 0\n",
    "\n",
    "        #从子串长度为2开始的\n",
    "        for j in range(1, len(s)):#以j结尾的s的回文子串\n",
    "            for i in range(j):\n",
    "                if s[i] == s[j]:\n",
    "                    if j - i <= 2:\n",
    "                        dp[i][j] = True\n",
    "                    else:\n",
    "                        dp[i][j] = dp[i+1][j-1]\n",
    "\n",
    "                if dp[i][j] and (j - i + 1) > max_len:\n",
    "                    max_len = j - i + 1\n",
    "                    max_start = i\n",
    "                \n",
    "        return s[max_start:max_start+max_len]\n",
    "\n",
    "        "
   ]
  },
  {
   "cell_type": "code",
   "execution_count": 2,
   "metadata": {},
   "outputs": [
    {
     "data": {
      "text/plain": [
       "'bab'"
      ]
     },
     "execution_count": 2,
     "metadata": {},
     "output_type": "execute_result"
    }
   ],
   "source": [
    "solu = Solution()\n",
    "solu.longestPalindrome(\"babad\")"
   ]
  },
  {
   "cell_type": "code",
   "execution_count": null,
   "metadata": {},
   "outputs": [],
   "source": []
  }
 ],
 "metadata": {
  "kernelspec": {
   "display_name": "py10",
   "language": "python",
   "name": "python3"
  },
  "language_info": {
   "codemirror_mode": {
    "name": "ipython",
    "version": 3
   },
   "file_extension": ".py",
   "mimetype": "text/x-python",
   "name": "python",
   "nbconvert_exporter": "python",
   "pygments_lexer": "ipython3",
   "version": "3.10.12"
  }
 },
 "nbformat": 4,
 "nbformat_minor": 2
}
