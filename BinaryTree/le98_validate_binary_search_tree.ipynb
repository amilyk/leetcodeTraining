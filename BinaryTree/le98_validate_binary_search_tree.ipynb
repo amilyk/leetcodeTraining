{
 "cells": [
  {
   "cell_type": "code",
   "execution_count": null,
   "metadata": {},
   "outputs": [],
   "source": [
    "# Definition for a binary tree node.\n",
    "# class TreeNode(object):\n",
    "#     def __init__(self, val=0, left=None, right=None):\n",
    "#         self.val = val\n",
    "#         self.left = left\n",
    "#         self.right = right\n",
    "class Solution(object):\n",
    "    def isValidBST(self, root):\n",
    "        \"\"\"\n",
    "        :type root: Optional[TreeNode]\n",
    "        :rtype: bool\n",
    "        \"\"\"\n",
    "        #保证root在(min，和max之间)，遍历方法任选（前序等）\n",
    "        #左子树遍历的时候，max为root，均小于根节点的值\n",
    "        #右子树遍历的时候，min为root，均大于根节点的值\n",
    "        def preOrderTraversal(root, min_v, max_v):\n",
    "            if not root:\n",
    "                return True\n",
    "            if root.val <= min_v or root.val >= max_v:\n",
    "                return False\n",
    "            return preOrderTraversal(root.left, min_v,root.val) and preOrderTraversal(root.right, root.val, max_v)\n",
    "        return preOrderTraversal(root, float('-inf'), float('inf'))"
   ]
  }
 ],
 "metadata": {
  "language_info": {
   "name": "python"
  }
 },
 "nbformat": 4,
 "nbformat_minor": 2
}
