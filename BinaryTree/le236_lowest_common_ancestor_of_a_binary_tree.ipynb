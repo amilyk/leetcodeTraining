{
 "cells": [
  {
   "cell_type": "code",
   "execution_count": null,
   "metadata": {},
   "outputs": [],
   "source": [
    "# Definition for a binary tree node.\n",
    "# class TreeNode(object):\n",
    "#     def __init__(self, x):\n",
    "#         self.val = x\n",
    "#         self.left = None\n",
    "#         self.right = None\n",
    "\n",
    "class Solution(object):\n",
    "    def lowestCommonAncestor(self, root, p, q):\n",
    "        \"\"\"\n",
    "        :type root: TreeNode\n",
    "        :type p: TreeNode\n",
    "        :type q: TreeNode\n",
    "        :rtype: TreeNode\n",
    "        \"\"\"\n",
    "        #如果p、q都存在，返回p，q共同祖先\n",
    "        #如果p、q只有一个存在于树上，则返回存在的那个（比如p存在，返回p）\n",
    "        #如果p、q都不存在，返回None\n",
    "        if root == p or root == q:\n",
    "            return root\n",
    "        \n",
    "        if root:#退出条件（遍历到最后分支）\n",
    "            node_left = self.lowestCommonAncestor(root.left, p, q)\n",
    "            node_right = self.lowestCommonAncestor(root.right, p, q)\n",
    "            if node_left and node_right:\n",
    "                return root\n",
    "            elif not node_left:\n",
    "                return node_right\n",
    "            elif not node_right:\n",
    "                return node_left\n",
    "        return None"
   ]
  }
 ],
 "metadata": {
  "kernelspec": {
   "display_name": "py10",
   "language": "python",
   "name": "python3"
  },
  "language_info": {
   "name": "python",
   "version": "3.10.12"
  }
 },
 "nbformat": 4,
 "nbformat_minor": 2
}
