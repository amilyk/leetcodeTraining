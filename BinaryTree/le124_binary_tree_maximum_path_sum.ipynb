{
 "cells": [
  {
   "cell_type": "code",
   "execution_count": 2,
   "metadata": {},
   "outputs": [],
   "source": [
    "# Definition for a binary tree node.\n",
    "# class TreeNode(object):\n",
    "#     def __init__(self, val=0, left=None, right=None):\n",
    "#         self.val = val\n",
    "#         self.left = left\n",
    "#         self.right = right\n",
    "class Solution(object):\n",
    "    def __init__(self):\n",
    "        self.pathSum = float('-inf')#考虑到节点里都是负数的情况\n",
    "\n",
    "    def maxPathSum(self, root):\n",
    "        \"\"\"\n",
    "        :type root: Optional[TreeNode]\n",
    "        :rtype: int\n",
    "        \"\"\"\n",
    "        def dfs(root):\n",
    "            if not root:\n",
    "                return 0\n",
    "            leftSum = max(dfs(root.left), 0)\n",
    "            rightSum = max(dfs(root.right), 0)\n",
    "            #root为主节点的时候，计算pathSum就可以加上左侧和右侧\n",
    "            self.pathSum = max(self.pathSum, root.val + leftSum + rightSum)\n",
    "            #return是把root这个节点作为返回值，只能考虑一条支线，root＋left或root+right\n",
    "            #因为每个节点最多出现1次\n",
    "            return root.val + max(leftSum, rightSum)\n",
    "        \n",
    "        dfs(root)\n",
    "        return self.pathSum"
   ]
  }
 ],
 "metadata": {
  "kernelspec": {
   "display_name": "py10",
   "language": "python",
   "name": "python3"
  },
  "language_info": {
   "codemirror_mode": {
    "name": "ipython",
    "version": 3
   },
   "file_extension": ".py",
   "mimetype": "text/x-python",
   "name": "python",
   "nbconvert_exporter": "python",
   "pygments_lexer": "ipython3",
   "version": "3.10.12"
  }
 },
 "nbformat": 4,
 "nbformat_minor": 2
}
