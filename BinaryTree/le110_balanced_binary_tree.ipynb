{
 "cells": [
  {
   "cell_type": "code",
   "execution_count": null,
   "metadata": {},
   "outputs": [],
   "source": [
    "# Definition for a binary tree node.\n",
    "# class TreeNode(object):\n",
    "#     def __init__(self, val=0, left=None, right=None):\n",
    "#         self.val = val\n",
    "#         self.left = left\n",
    "#         self.right = right\n",
    "class Solution(object):\n",
    "    def isBalanced(self, root):\n",
    "        \"\"\"\n",
    "        :type root: Optional[TreeNode]\n",
    "        :rtype: bool\n",
    "        \"\"\"\n",
    "        def height(root):\n",
    "            if not root:\n",
    "                return 0\n",
    "            left_height = height(root.left)\n",
    "            right_height = height(root.right)\n",
    "            #右/左子树 比 右/左子树高度差超过1，子树不是平衡的\n",
    "            #只要子树不是平衡的（-1一直往上传递），root不是平衡的\n",
    "            if left_height == -1 or right_height == -1 or abs(right_height - left_height) > 1:\n",
    "                return -1\n",
    "            else:\n",
    "                return max(left_height, right_height) + 1\n",
    "        return height(root) >= 0"
   ]
  }
 ],
 "metadata": {
  "language_info": {
   "name": "python"
  }
 },
 "nbformat": 4,
 "nbformat_minor": 2
}
