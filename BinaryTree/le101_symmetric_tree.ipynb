{
 "cells": [
  {
   "cell_type": "code",
   "execution_count": null,
   "metadata": {},
   "outputs": [],
   "source": [
    "# Definition for a binary tree node.\n",
    "# class TreeNode(object):\n",
    "#     def __init__(self, val=0, left=None, right=None):\n",
    "#         self.val = val\n",
    "#         self.left = left\n",
    "#         self.right = right\n",
    "class Solution(object):\n",
    "    def isSymmetric(self, root):\n",
    "        \"\"\"\n",
    "        :type root: Optional[TreeNode]\n",
    "        :rtype: bool\n",
    "        \"\"\"\n",
    "        #left.left right.right  &&  left.right right.left\n",
    "        if not root:\n",
    "            return True\n",
    "        return self.check(root.left, root.right)\n",
    "    \n",
    "    def check(self, left, right):\n",
    "        if not left and not right:\n",
    "            return True\n",
    "        if not left and right:\n",
    "            return False\n",
    "        if left and not right:\n",
    "            return False\n",
    "        if left.val != right.val:\n",
    "            return False\n",
    "        return self.check(left.left, right.right) and self.check(left.right, right.left)"
   ]
  }
 ],
 "metadata": {
  "language_info": {
   "name": "python"
  }
 },
 "nbformat": 4,
 "nbformat_minor": 2
}
