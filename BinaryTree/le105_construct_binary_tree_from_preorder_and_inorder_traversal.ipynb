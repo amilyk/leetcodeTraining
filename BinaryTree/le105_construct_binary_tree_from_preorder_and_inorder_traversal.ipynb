{
 "cells": [
  {
   "cell_type": "code",
   "execution_count": null,
   "metadata": {},
   "outputs": [],
   "source": [
    "# Definition for a binary tree node.\n",
    "# class TreeNode(object):\n",
    "#     def __init__(self, val=0, left=None, right=None):\n",
    "#         self.val = val\n",
    "#         self.left = left\n",
    "#         self.right = right\n",
    "class Solution(object):\n",
    "    def buildTree(self, preorder, inorder):\n",
    "        \"\"\"\n",
    "        :type preorder: List[int]\n",
    "        :type inorder: List[int]\n",
    "        :rtype: Optional[TreeNode]\n",
    "        \"\"\"\n",
    "        #前序遍历找到root，中序遍历找左右子树\n",
    "        def createTree(preorder, inorder, n):\n",
    "            if n == 0:\n",
    "                return None\n",
    "            k = 0\n",
    "            while preorder[0] != inorder[k]:#找到中序遍历中root的位置为k\n",
    "                k += 1\n",
    "            node = TreeNode(inorder[k])\n",
    "            node.left = createTree(preorder[1:k+1], inorder[:k], k)\n",
    "            node.right = createTree(preorder[k+1:], inorder[k+1:], n-k-1)\n",
    "            return node\n",
    "        return createTree(preorder, inorder, len(preorder))"
   ]
  }
 ],
 "metadata": {
  "language_info": {
   "name": "python"
  }
 },
 "nbformat": 4,
 "nbformat_minor": 2
}
