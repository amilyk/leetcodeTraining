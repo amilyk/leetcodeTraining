{
 "cells": [
  {
   "cell_type": "code",
   "execution_count": null,
   "metadata": {},
   "outputs": [],
   "source": [
    "# Definition for a binary tree node.\n",
    "# class TreeNode(object):\n",
    "#     def __init__(self, val=0, left=None, right=None):\n",
    "#         self.val = val\n",
    "#         self.left = left\n",
    "#         self.right = right\n",
    "class Solution(object):\n",
    "    def pathSum(self, root, targetSum):\n",
    "        \"\"\"\n",
    "        :type root: Optional[TreeNode]\n",
    "        :type targetSum: int\n",
    "        :rtype: List[List[int]]\n",
    "        \"\"\"\n",
    "        res = []\n",
    "        path = []\n",
    "\n",
    "        #回溯法(深度优先)\n",
    "        def dfs(root, targetSum):\n",
    "            if not root:\n",
    "                return \n",
    "            path.append(root.val)\n",
    "            targetSum -= root.val\n",
    "            if not root.left and not root.right and targetSum == 0:\n",
    "                #叶子节点并且targetSum=0\n",
    "                res.append(path[:])\n",
    "            dfs(root.left, targetSum)\n",
    "            dfs(root.right, targetSum)\n",
    "            path.pop()\n",
    "\n",
    "        dfs(root, targetSum)\n",
    "        return res"
   ]
  }
 ],
 "metadata": {
  "language_info": {
   "name": "python"
  }
 },
 "nbformat": 4,
 "nbformat_minor": 2
}
