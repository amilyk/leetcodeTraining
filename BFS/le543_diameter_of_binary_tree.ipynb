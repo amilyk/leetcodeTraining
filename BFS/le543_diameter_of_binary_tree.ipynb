{
 "cells": [
  {
   "cell_type": "code",
   "execution_count": null,
   "metadata": {},
   "outputs": [],
   "source": [
    "# Definition for a binary tree node.\n",
    "# class TreeNode(object):\n",
    "#     def __init__(self, val=0, left=None, right=None):\n",
    "#         self.val = val\n",
    "#         self.left = left\n",
    "#         self.right = right\n",
    "class Solution(object):\n",
    "    def __init__(self):\n",
    "        self.max_diameter = 0\n",
    "\n",
    "    def dfs(self, root):\n",
    "        if not root:\n",
    "            return 0\n",
    "        left_max = self.dfs(root.left)\n",
    "        right_max = self.dfs(root.right)\n",
    "        #对根节点而言，可以选择左右子树作为2条路径\n",
    "        self.max_diameter = max(self.max_diameter, left_max + right_max)\n",
    "        return 1+ max(left_max, right_max)\n",
    "        #如果返回值，只能选择一条路径，因为每个节点只能访问一次\n",
    "\n",
    "    def diameterOfBinaryTree(self, root):\n",
    "        \"\"\"\n",
    "        :type root: Optional[TreeNode]\n",
    "        :rtype: int\n",
    "        \"\"\"\n",
    "        self.dfs(root)\n",
    "        return self.max_diameter\n",
    "        "
   ]
  }
 ],
 "metadata": {
  "language_info": {
   "name": "python"
  }
 },
 "nbformat": 4,
 "nbformat_minor": 2
}
