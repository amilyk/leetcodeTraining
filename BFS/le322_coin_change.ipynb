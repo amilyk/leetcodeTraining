{
 "cells": [
  {
   "cell_type": "code",
   "execution_count": 1,
   "metadata": {},
   "outputs": [],
   "source": [
    "class Solution(object):\n",
    "    def coinChange(self, coins, amount):\n",
    "        \"\"\"\n",
    "        :type coins: List[int]\n",
    "        :type amount: int\n",
    "        :rtype: int\n",
    "        \"\"\"\n",
    "        #bfs,queue\n",
    "        if amount == 0:\n",
    "            return 0\n",
    "        queue = [amount]\n",
    "        visited = set([amount])#改为set，判断visited是否被访问的时候更快\n",
    "        step = 0\n",
    "        while queue:\n",
    "            size = len(queue)\n",
    "            step += 1\n",
    "            for _ in range(size):\n",
    "                cur = queue.pop(0)\n",
    "                for coin in coins:\n",
    "                    if cur == coin:\n",
    "                        return step\n",
    "                    elif cur - coin > 0 and cur - coin not in visited:#防止前面遍历过了\n",
    "                        queue.append(cur-coin)\n",
    "                        visited.add(cur-coin)\n",
    "        return -1"
   ]
  },
  {
   "cell_type": "code",
   "execution_count": 3,
   "metadata": {},
   "outputs": [
    {
     "data": {
      "text/plain": [
       "3"
      ]
     },
     "execution_count": 3,
     "metadata": {},
     "output_type": "execute_result"
    }
   ],
   "source": [
    "solu = Solution()\n",
    "solu.coinChange([1,2,5], 11)"
   ]
  }
 ],
 "metadata": {
  "kernelspec": {
   "display_name": "py10",
   "language": "python",
   "name": "python3"
  },
  "language_info": {
   "codemirror_mode": {
    "name": "ipython",
    "version": 3
   },
   "file_extension": ".py",
   "mimetype": "text/x-python",
   "name": "python",
   "nbconvert_exporter": "python",
   "pygments_lexer": "ipython3",
   "version": "3.10.12"
  }
 },
 "nbformat": 4,
 "nbformat_minor": 2
}
