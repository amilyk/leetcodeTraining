{
 "cells": [
  {
   "cell_type": "code",
   "execution_count": null,
   "metadata": {},
   "outputs": [],
   "source": [
    "# Definition for a binary tree node.\n",
    "# class TreeNode(object):\n",
    "#     def __init__(self, val=0, left=None, right=None):\n",
    "#         self.val = val\n",
    "#         self.left = left\n",
    "#         self.right = right\n",
    "class Solution(object):\n",
    "    def widthOfBinaryTree(self, root):\n",
    "        \"\"\"\n",
    "        :type root: Optional[TreeNode]\n",
    "        :rtype: int\n",
    "        \"\"\"\n",
    "        #结合上满二叉树的index，左子树为2*i+1, 右子树为2*i+2\n",
    "        if not root:\n",
    "            return 0\n",
    "        queue = [[root, 0]]\n",
    "        max_width = 0\n",
    "        while queue:\n",
    "            max_width = max(max_width, queue[-1][1]-queue[0][1]+1)\n",
    "            size = len(queue)\n",
    "            for _ in range(size):\n",
    "                node,index = queue.pop(0)\n",
    "                if node.left:\n",
    "                    queue.append([node.left, index*2+1])\n",
    "                if node.right:\n",
    "                    queue.append([node.right, index*2+2])\n",
    "        return max_width"
   ]
  }
 ],
 "metadata": {
  "language_info": {
   "name": "python"
  }
 },
 "nbformat": 4,
 "nbformat_minor": 2
}
