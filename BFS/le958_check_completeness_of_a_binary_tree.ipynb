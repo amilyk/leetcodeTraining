{
 "cells": [
  {
   "cell_type": "code",
   "execution_count": null,
   "metadata": {},
   "outputs": [],
   "source": [
    "# Definition for a binary tree node.\n",
    "# class TreeNode(object):\n",
    "#     def __init__(self, val=0, left=None, right=None):\n",
    "#         self.val = val\n",
    "#         self.left = left\n",
    "#         self.right = right\n",
    "class Solution(object):\n",
    "    def isCompleteTree(self, root):\n",
    "        \"\"\"\n",
    "        :type root: Optional[TreeNode]\n",
    "        :rtype: bool\n",
    "        \"\"\"\n",
    "        #不是满二叉树检验，通过左右子树是否都为True判断\n",
    "        #而是完全二叉树，null之后又出现了非空节点，比如[1,2,3,4,5,null,7]\n",
    "        #BFS 层次遍历\n",
    "        if not root:\n",
    "            return False\n",
    "        queue = [root]\n",
    "        is_empty=False\n",
    "        while queue:\n",
    "            size = len(queue)\n",
    "            for _ in range(size):\n",
    "                node = queue.pop(0)\n",
    "                if not node:\n",
    "                    is_empty = True\n",
    "                else:#空节点后，出现了非空节点\n",
    "                    if is_empty:\n",
    "                        return False\n",
    "                    queue.append(node.left)\n",
    "                    queue.append(node.right)\n",
    "        return True"
   ]
  }
 ],
 "metadata": {
  "language_info": {
   "name": "python"
  }
 },
 "nbformat": 4,
 "nbformat_minor": 2
}
