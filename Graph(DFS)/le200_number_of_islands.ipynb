{
 "cells": [
  {
   "cell_type": "code",
   "execution_count": 1,
   "metadata": {},
   "outputs": [],
   "source": [
    "class Solution(object):\n",
    "    def numIslands(self, grid):\n",
    "        \"\"\"\n",
    "        :type grid: List[List[str]]\n",
    "        :rtype: int\n",
    "        \"\"\"\n",
    "        #水平竖直方向有连接，就是相邻的。斜方向可以连接不算相邻\n",
    "        #遍历的时候，上下左右4个方向去遍历，一个岛就能通过1个起点走完，更换不同起点去遍历，就能找到岛屿个数\n",
    "        def dfs(grid, i, j):\n",
    "            m = len(grid)\n",
    "            n = len(grid[0])\n",
    "            if i < 0 or i >= m or j < 0 or j >= n or grid[i][j] == '0':\n",
    "                return\n",
    "            grid[i][j] = '0'\n",
    "            dfs(grid, i+1, j)#往下\n",
    "            dfs(grid, i, j+1)#往右\n",
    "            dfs(grid, i-1, j)#往上\n",
    "            dfs(grid, i, j-1)#往左\n",
    "\n",
    "        count = 0\n",
    "        m = len(grid)\n",
    "        n = len(grid[0])\n",
    "        for i in range(m):\n",
    "            for j in range(n):\n",
    "                if grid[i][j] == '1':#必须从陆地开始找\n",
    "                    dfs(grid, i, j)\n",
    "                    count += 1\n",
    "        return count\n",
    "    "
   ]
  },
  {
   "cell_type": "code",
   "execution_count": 2,
   "metadata": {},
   "outputs": [
    {
     "data": {
      "text/plain": [
       "1"
      ]
     },
     "execution_count": 2,
     "metadata": {},
     "output_type": "execute_result"
    }
   ],
   "source": [
    "solu = Solution()\n",
    "grid = [\n",
    "    ['1','1','1','1','0'],\n",
    "    ['1','1','0','1','0'],\n",
    "    ['1','1','0','0','0'],\n",
    "    ['0','0','0','0','0']\n",
    "]\n",
    "solu.numIslands(grid)"
   ]
  },
  {
   "cell_type": "code",
   "execution_count": null,
   "metadata": {},
   "outputs": [],
   "source": []
  }
 ],
 "metadata": {
  "kernelspec": {
   "display_name": "py10",
   "language": "python",
   "name": "python3"
  },
  "language_info": {
   "codemirror_mode": {
    "name": "ipython",
    "version": 3
   },
   "file_extension": ".py",
   "mimetype": "text/x-python",
   "name": "python",
   "nbconvert_exporter": "python",
   "pygments_lexer": "ipython3",
   "version": "3.10.12"
  }
 },
 "nbformat": 4,
 "nbformat_minor": 2
}
