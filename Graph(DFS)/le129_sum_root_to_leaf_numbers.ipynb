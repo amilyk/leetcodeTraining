{
 "cells": [
  {
   "cell_type": "code",
   "execution_count": null,
   "metadata": {},
   "outputs": [],
   "source": [
    "# Definition for a binary tree node.\n",
    "# class TreeNode(object):\n",
    "#     def __init__(self, val=0, left=None, right=None):\n",
    "#         self.val = val\n",
    "#         self.left = left\n",
    "#         self.right = right\n",
    "class Solution(object):\n",
    "    def sumNumbers(self, root):\n",
    "        \"\"\"\n",
    "        :type root: Optional[TreeNode]\n",
    "        :rtype: int\n",
    "        \"\"\"\n",
    "        return self.dfs(root, 0)\n",
    "\n",
    "    def dfs(self, root, pretotal):\n",
    "        if not root:\n",
    "            return 0\n",
    "        total = pretotal * 10 + root.val\n",
    "        if not root.left and not root.right:#到了叶子节点才返回\n",
    "            return total\n",
    "        return self.dfs(root.left, total) + self.dfs(root.right, total)"
   ]
  }
 ],
 "metadata": {
  "language_info": {
   "name": "python"
  }
 },
 "nbformat": 4,
 "nbformat_minor": 2
}
